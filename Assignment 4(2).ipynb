{
 "cells": [
  {
   "cell_type": "code",
   "execution_count": 2,
   "id": "8c50885d",
   "metadata": {},
   "outputs": [
    {
     "data": {
      "text/plain": [
       "[3, 6, 9, 12, 15, 18, 21]"
      ]
     },
     "execution_count": 2,
     "metadata": {},
     "output_type": "execute_result"
    }
   ],
   "source": [
    "#Write a Python program to triple all numbers of a given list of integers. Use Python map.\n",
    "\n",
    "\n",
    "\n",
    "def Asad(n):\n",
    "    return n*3\n",
    "\n",
    "A= [1, 2, 3, 4, 5, 6, 7]\n",
    "list(map(Asad,A))"
   ]
  },
  {
   "cell_type": "code",
   "execution_count": 6,
   "id": "f2d9fcda",
   "metadata": {},
   "outputs": [
    {
     "data": {
      "text/plain": [
       "[3, 6, 9, 12, 15, 18, 21]"
      ]
     },
     "execution_count": 6,
     "metadata": {},
     "output_type": "execute_result"
    }
   ],
   "source": [
    "A= [1, 2, 3, 4, 5, 6, 7]\n",
    "Tatiyana =list(map(lambda r:r*3 , A))\n",
    "Tatiyana"
   ]
  },
  {
   "cell_type": "code",
   "execution_count": null,
   "id": "42edbbd8",
   "metadata": {},
   "outputs": [],
   "source": []
  }
 ],
 "metadata": {
  "kernelspec": {
   "display_name": "Python 3 (ipykernel)",
   "language": "python",
   "name": "python3"
  },
  "language_info": {
   "codemirror_mode": {
    "name": "ipython",
    "version": 3
   },
   "file_extension": ".py",
   "mimetype": "text/x-python",
   "name": "python",
   "nbconvert_exporter": "python",
   "pygments_lexer": "ipython3",
   "version": "3.10.1"
  }
 },
 "nbformat": 4,
 "nbformat_minor": 5
}
